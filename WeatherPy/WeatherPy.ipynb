{
 "cells": [
  {
   "cell_type": "markdown",
   "metadata": {},
   "source": [
    "# WeatherPy\n",
    "----\n",
    "\n",
    "#### Note\n",
    "* Instructions have been included for each segment. You do not have to follow them exactly, but they are included to help you think through the steps."
   ]
  },
  {
   "cell_type": "code",
   "execution_count": null,
   "metadata": {},
   "outputs": [],
   "source": [
    "## Insights:\n",
    "### There is a strong correlation between max temp and latitude.\n",
    "### There is a weak to medium correlation between humidity and latitude and between wind speed and latitude.\n",
    "### There is a weak correlation between cloudiness and latitude."
   ]
  },
  {
   "cell_type": "code",
   "execution_count": 168,
   "metadata": {
    "scrolled": true
   },
   "outputs": [],
   "source": [
    "# Dependencies and Setup\n",
    "import matplotlib.pyplot as plt\n",
    "import pandas as pd\n",
    "import numpy as np\n",
    "import requests\n",
    "import time\n",
    "from scipy.stats import linregress\n",
    "import json\n",
    "from datetime import date\n",
    "\n",
    "# Import API key\n",
    "from api_keys import weather_api_key\n",
    "\n",
    "# Incorporated citipy to determine city based on latitude and longitude\n",
    "from citipy import citipy\n",
    "\n",
    "# Output File (CSV)\n",
    "output_data_file = \"output_data/cities.csv\"\n",
    "\n",
    "# Range of latitudes and longitudes\n",
    "lat_range = (-90, 90)\n",
    "lng_range = (-180, 180)"
   ]
  },
  {
   "cell_type": "code",
   "execution_count": 156,
   "metadata": {},
   "outputs": [
    {
     "data": {
      "text/html": [
       "<div>\n",
       "<style scoped>\n",
       "    .dataframe tbody tr th:only-of-type {\n",
       "        vertical-align: middle;\n",
       "    }\n",
       "\n",
       "    .dataframe tbody tr th {\n",
       "        vertical-align: top;\n",
       "    }\n",
       "\n",
       "    .dataframe thead th {\n",
       "        text-align: right;\n",
       "    }\n",
       "</style>\n",
       "<table border=\"1\" class=\"dataframe\">\n",
       "  <thead>\n",
       "    <tr style=\"text-align: right;\">\n",
       "      <th></th>\n",
       "      <th>City_ID</th>\n",
       "      <th>City</th>\n",
       "      <th>Cloudiness</th>\n",
       "      <th>Country</th>\n",
       "      <th>Date</th>\n",
       "      <th>Humidity</th>\n",
       "      <th>Lat</th>\n",
       "      <th>Lng</th>\n",
       "      <th>Max Temp</th>\n",
       "      <th>Wind Speed</th>\n",
       "    </tr>\n",
       "  </thead>\n",
       "  <tbody>\n",
       "    <tr>\n",
       "      <th>0</th>\n",
       "      <td>0</td>\n",
       "      <td>ostrovnoy</td>\n",
       "      <td>2</td>\n",
       "      <td>RU</td>\n",
       "      <td>1558378754</td>\n",
       "      <td>72</td>\n",
       "      <td>68.05</td>\n",
       "      <td>39.51</td>\n",
       "      <td>37.50</td>\n",
       "      <td>7.16</td>\n",
       "    </tr>\n",
       "    <tr>\n",
       "      <th>1</th>\n",
       "      <td>1</td>\n",
       "      <td>mahebourg</td>\n",
       "      <td>75</td>\n",
       "      <td>MU</td>\n",
       "      <td>1558378503</td>\n",
       "      <td>74</td>\n",
       "      <td>-20.41</td>\n",
       "      <td>57.70</td>\n",
       "      <td>78.80</td>\n",
       "      <td>11.41</td>\n",
       "    </tr>\n",
       "    <tr>\n",
       "      <th>2</th>\n",
       "      <td>2</td>\n",
       "      <td>qaanaaq</td>\n",
       "      <td>25</td>\n",
       "      <td>GL</td>\n",
       "      <td>1558378755</td>\n",
       "      <td>73</td>\n",
       "      <td>77.48</td>\n",
       "      <td>-69.36</td>\n",
       "      <td>22.20</td>\n",
       "      <td>2.37</td>\n",
       "    </tr>\n",
       "    <tr>\n",
       "      <th>3</th>\n",
       "      <td>3</td>\n",
       "      <td>zhuhai</td>\n",
       "      <td>0</td>\n",
       "      <td>CN</td>\n",
       "      <td>1558378755</td>\n",
       "      <td>39</td>\n",
       "      <td>40.71</td>\n",
       "      <td>112.04</td>\n",
       "      <td>44.60</td>\n",
       "      <td>4.47</td>\n",
       "    </tr>\n",
       "    <tr>\n",
       "      <th>4</th>\n",
       "      <td>4</td>\n",
       "      <td>cape town</td>\n",
       "      <td>20</td>\n",
       "      <td>ZA</td>\n",
       "      <td>1558378755</td>\n",
       "      <td>76</td>\n",
       "      <td>-33.93</td>\n",
       "      <td>18.42</td>\n",
       "      <td>55.99</td>\n",
       "      <td>8.05</td>\n",
       "    </tr>\n",
       "  </tbody>\n",
       "</table>\n",
       "</div>"
      ],
      "text/plain": [
       "   City_ID       City  Cloudiness Country        Date  Humidity    Lat  \\\n",
       "0        0  ostrovnoy           2      RU  1558378754        72  68.05   \n",
       "1        1  mahebourg          75      MU  1558378503        74 -20.41   \n",
       "2        2    qaanaaq          25      GL  1558378755        73  77.48   \n",
       "3        3     zhuhai           0      CN  1558378755        39  40.71   \n",
       "4        4  cape town          20      ZA  1558378755        76 -33.93   \n",
       "\n",
       "      Lng  Max Temp  Wind Speed  \n",
       "0   39.51     37.50        7.16  \n",
       "1   57.70     78.80       11.41  \n",
       "2  -69.36     22.20        2.37  \n",
       "3  112.04     44.60        4.47  \n",
       "4   18.42     55.99        8.05  "
      ]
     },
     "execution_count": 156,
     "metadata": {},
     "output_type": "execute_result"
    }
   ],
   "source": [
    "file = pd.read_csv(output_data_file)\n",
    "file_df = pd.DataFrame(file)\n",
    "file_df.head()"
   ]
  },
  {
   "cell_type": "code",
   "execution_count": 157,
   "metadata": {},
   "outputs": [
    {
     "data": {
      "text/plain": [
       "(548, 10)"
      ]
     },
     "execution_count": 157,
     "metadata": {},
     "output_type": "execute_result"
    }
   ],
   "source": [
    "file_df.shape"
   ]
  },
  {
   "cell_type": "markdown",
   "metadata": {},
   "source": [
    "## Generate Cities List"
   ]
  },
  {
   "cell_type": "code",
   "execution_count": 158,
   "metadata": {},
   "outputs": [
    {
     "data": {
      "text/plain": [
       "615"
      ]
     },
     "execution_count": 158,
     "metadata": {},
     "output_type": "execute_result"
    }
   ],
   "source": [
    "# List for holding lat_lngs and cities\n",
    "lat_lngs = []\n",
    "cities = []\n",
    "\n",
    "# Create a set of random lat and lng combinations\n",
    "lats = np.random.uniform(lat_range[0], lat_range[1], size=1500)\n",
    "lngs = np.random.uniform(lng_range[0], lng_range[1], size=1500)\n",
    "lat_lngs = zip(lats, lngs)\n",
    "\n",
    "# Identify nearest city for each lat, lng combination\n",
    "for lat_lng in lat_lngs:\n",
    "    city = citipy.nearest_city(lat_lng[0], lat_lng[1]).city_name\n",
    "    \n",
    "    # If the city is unique, then add it to a our cities list\n",
    "    if city not in cities:\n",
    "        cities.append(city)\n",
    "\n",
    "# Print the city count to confirm sufficient count\n",
    "len(cities)"
   ]
  },
  {
   "cell_type": "markdown",
   "metadata": {},
   "source": [
    "### Perform API Calls\n",
    "* Perform a weather check on each city using a series of successive API calls.\n",
    "* Include a print log of each city as it'sbeing processed (with the city number and city name).\n"
   ]
  },
  {
   "cell_type": "code",
   "execution_count": 159,
   "metadata": {
    "scrolled": true
   },
   "outputs": [
    {
     "name": "stdout",
     "output_type": "stream",
     "text": [
      "Beginning Data Retrieval\n",
      "-------------------------------\n",
      "Processing Record 2 of Set 1 | lazaro cardenas\n",
      "Processing Record 3 of Set 1 | avila\n",
      "Processing Record 4 of Set 1 | bredasdorp\n",
      "Processing Record 5 of Set 1 | ushuaia\n",
      "Processing Record 6 of Set 1 | jaisinghnagar\n",
      "Processing Record 7 of Set 1 | derzhavinsk\n",
      "Processing Record 8 of Set 1 | arraial do cabo\n",
      "Processing Record 9 of Set 1 | los llanos de aridane\n",
      "Processing Record 10 of Set 1 | shar\n",
      "Processing Record 11 of Set 1 | albany\n",
      "City not found. Skipping...\n",
      "Processing Record 13 of Set 1 | kavieng\n",
      "Processing Record 14 of Set 1 | ugoofaaru\n",
      "Processing Record 15 of Set 1 | chapais\n",
      "Processing Record 16 of Set 1 | bambous virieux\n",
      "Processing Record 17 of Set 1 | solnechnyy\n",
      "Processing Record 18 of Set 1 | toyooka\n",
      "Processing Record 19 of Set 1 | kita\n",
      "Processing Record 20 of Set 1 | mount gambier\n",
      "Processing Record 21 of Set 1 | puerto ayora\n",
      "City not found. Skipping...\n",
      "Processing Record 23 of Set 1 | hithadhoo\n",
      "Processing Record 24 of Set 1 | avarua\n",
      "Processing Record 25 of Set 1 | lebu\n",
      "Processing Record 26 of Set 1 | kapaa\n",
      "Processing Record 27 of Set 1 | kalabo\n",
      "Processing Record 28 of Set 1 | dikson\n",
      "Processing Record 29 of Set 1 | hobart\n",
      "Processing Record 30 of Set 1 | castro\n",
      "Processing Record 31 of Set 1 | alofi\n",
      "Processing Record 32 of Set 1 | kununurra\n",
      "Processing Record 33 of Set 1 | rikitea\n",
      "Processing Record 34 of Set 1 | yellowknife\n",
      "City not found. Skipping...\n",
      "Processing Record 36 of Set 1 | olean\n",
      "Processing Record 37 of Set 1 | nikolskoye\n",
      "Processing Record 38 of Set 1 | upernavik\n",
      "Processing Record 39 of Set 1 | vaini\n",
      "Processing Record 40 of Set 1 | puerto madryn\n",
      "Processing Record 41 of Set 1 | guarapuava\n",
      "Processing Record 42 of Set 1 | marienburg\n",
      "City not found. Skipping...\n",
      "Processing Record 44 of Set 1 | mayo\n",
      "Processing Record 45 of Set 1 | mar del plata\n",
      "Processing Record 46 of Set 1 | kodiak\n",
      "Processing Record 47 of Set 1 | serik\n",
      "Processing Record 48 of Set 1 | mataura\n",
      "City not found. Skipping...\n",
      "Processing Record 50 of Set 1 | geraldton\n",
      "Processing Record 1 of Set 2 | hami\n",
      "Processing Record 2 of Set 2 | spencer\n",
      "Processing Record 3 of Set 2 | la ronge\n",
      "Processing Record 4 of Set 2 | aripuana\n",
      "Processing Record 5 of Set 2 | khatanga\n",
      "Processing Record 6 of Set 2 | lac du bonnet\n",
      "Processing Record 7 of Set 2 | saint-francois\n",
      "Processing Record 8 of Set 2 | busselton\n",
      "Processing Record 9 of Set 2 | aljezur\n",
      "Processing Record 10 of Set 2 | muros\n",
      "Processing Record 11 of Set 2 | kisanga\n",
      "Processing Record 12 of Set 2 | severo-kurilsk\n",
      "Processing Record 13 of Set 2 | bluff\n",
      "Processing Record 14 of Set 2 | biak\n",
      "Processing Record 15 of Set 2 | vanimo\n",
      "Processing Record 16 of Set 2 | ponta do sol\n",
      "Processing Record 17 of Set 2 | luanda\n",
      "Processing Record 18 of Set 2 | coquimbo\n",
      "Processing Record 19 of Set 2 | batagay-alyta\n",
      "Processing Record 20 of Set 2 | new norfolk\n",
      "Processing Record 21 of Set 2 | jamestown\n",
      "Processing Record 22 of Set 2 | hoquiam\n",
      "Processing Record 23 of Set 2 | cherskiy\n",
      "Processing Record 24 of Set 2 | qaanaaq\n",
      "Processing Record 25 of Set 2 | saiha\n",
      "Processing Record 26 of Set 2 | punta arenas\n",
      "Processing Record 27 of Set 2 | tessalit\n",
      "Processing Record 28 of Set 2 | bandarbeyla\n",
      "Processing Record 29 of Set 2 | faya\n",
      "City not found. Skipping...\n",
      "Processing Record 31 of Set 2 | east london\n",
      "Processing Record 32 of Set 2 | general pico\n",
      "City not found. Skipping...\n",
      "Processing Record 34 of Set 2 | flinders\n",
      "Processing Record 35 of Set 2 | butaritari\n",
      "Processing Record 36 of Set 2 | oranjemund\n",
      "Processing Record 37 of Set 2 | tasiilaq\n",
      "Processing Record 38 of Set 2 | talas\n",
      "Processing Record 39 of Set 2 | marjamaa\n",
      "City not found. Skipping...\n",
      "Processing Record 41 of Set 2 | nagorsk\n",
      "City not found. Skipping...\n",
      "Processing Record 43 of Set 2 | yar-sale\n",
      "Processing Record 44 of Set 2 | poum\n",
      "Processing Record 45 of Set 2 | richards bay\n",
      "Processing Record 46 of Set 2 | zhigansk\n",
      "Processing Record 47 of Set 2 | namatanai\n",
      "Processing Record 48 of Set 2 | lompoc\n",
      "Processing Record 49 of Set 2 | chuy\n",
      "Processing Record 50 of Set 2 | san patricio\n",
      "Processing Record 1 of Set 3 | touros\n",
      "Processing Record 2 of Set 3 | buraydah\n",
      "Processing Record 3 of Set 3 | cabedelo\n",
      "Processing Record 4 of Set 3 | hermanus\n",
      "Processing Record 5 of Set 3 | saint-philippe\n",
      "Processing Record 6 of Set 3 | atuona\n",
      "Processing Record 7 of Set 3 | ahipara\n",
      "Processing Record 8 of Set 3 | odessa\n",
      "City not found. Skipping...\n",
      "City not found. Skipping...\n",
      "City not found. Skipping...\n",
      "Processing Record 12 of Set 3 | cockburn town\n",
      "Processing Record 13 of Set 3 | bathsheba\n",
      "City not found. Skipping...\n",
      "Processing Record 15 of Set 3 | havre-saint-pierre\n",
      "Processing Record 16 of Set 3 | hervey bay\n",
      "City not found. Skipping...\n",
      "Processing Record 18 of Set 3 | esperance\n",
      "Processing Record 19 of Set 3 | comodoro rivadavia\n",
      "Processing Record 20 of Set 3 | ambilobe\n",
      "Processing Record 21 of Set 3 | taltal\n",
      "Processing Record 22 of Set 3 | port hedland\n",
      "Processing Record 23 of Set 3 | ketchikan\n",
      "Processing Record 24 of Set 3 | northam\n",
      "Processing Record 25 of Set 3 | hilo\n",
      "Processing Record 26 of Set 3 | saskylakh\n",
      "Processing Record 27 of Set 3 | port alfred\n",
      "Processing Record 28 of Set 3 | cape town\n",
      "Processing Record 29 of Set 3 | itaituba\n",
      "Processing Record 30 of Set 3 | san policarpo\n",
      "Processing Record 31 of Set 3 | launceston\n",
      "Processing Record 32 of Set 3 | gushikawa\n",
      "Processing Record 33 of Set 3 | ardmore\n",
      "Processing Record 34 of Set 3 | cayenne\n",
      "Processing Record 35 of Set 3 | nadym\n",
      "City not found. Skipping...\n",
      "Processing Record 37 of Set 3 | balangir\n",
      "Processing Record 38 of Set 3 | marsa matruh\n",
      "Processing Record 39 of Set 3 | baie-comeau\n",
      "Processing Record 40 of Set 3 | kapuskasing\n",
      "Processing Record 41 of Set 3 | opuwo\n",
      "City not found. Skipping...\n",
      "Processing Record 43 of Set 3 | aksarka\n",
      "Processing Record 44 of Set 3 | addis abeba\n",
      "City not found. Skipping...\n",
      "Processing Record 46 of Set 3 | mahebourg\n",
      "Processing Record 47 of Set 3 | pamekasan\n",
      "City not found. Skipping...\n",
      "Processing Record 49 of Set 3 | ancud\n",
      "Processing Record 50 of Set 3 | puerto carreno\n",
      "Processing Record 1 of Set 4 | bengkulu\n",
      "Processing Record 2 of Set 4 | saint-pierre\n",
      "Processing Record 3 of Set 4 | pangody\n",
      "Processing Record 4 of Set 4 | srednekolymsk\n",
      "Processing Record 5 of Set 4 | clyde river\n",
      "Processing Record 6 of Set 4 | gamba\n",
      "Processing Record 7 of Set 4 | sao filipe\n",
      "Processing Record 8 of Set 4 | acapulco\n",
      "Processing Record 9 of Set 4 | valle de allende\n",
      "City not found. Skipping...\n",
      "Processing Record 11 of Set 4 | kamina\n",
      "Processing Record 12 of Set 4 | fukue\n",
      "Processing Record 13 of Set 4 | blagoyevo\n",
      "Processing Record 14 of Set 4 | westport\n",
      "City not found. Skipping...\n",
      "Processing Record 16 of Set 4 | jurm\n",
      "Processing Record 17 of Set 4 | ilulissat\n",
      "Processing Record 18 of Set 4 | chabahar\n",
      "Processing Record 19 of Set 4 | dingle\n",
      "Processing Record 20 of Set 4 | husavik\n",
      "Processing Record 21 of Set 4 | abong mbang\n",
      "Processing Record 22 of Set 4 | palafrugell\n",
      "Processing Record 23 of Set 4 | puerto ayacucho\n",
      "Processing Record 24 of Set 4 | leningradskiy\n",
      "Processing Record 25 of Set 4 | lewistown\n",
      "Processing Record 26 of Set 4 | chokurdakh\n",
      "Processing Record 27 of Set 4 | cabo san lucas\n",
      "Processing Record 28 of Set 4 | batticaloa\n",
      "Processing Record 29 of Set 4 | thompson\n",
      "Processing Record 30 of Set 4 | naranjal\n",
      "City not found. Skipping...\n",
      "Processing Record 32 of Set 4 | padre bernardo\n",
      "Processing Record 33 of Set 4 | lensk\n",
      "Processing Record 34 of Set 4 | karratha\n",
      "Processing Record 35 of Set 4 | nouadhibou\n",
      "Processing Record 36 of Set 4 | anadyr\n",
      "Processing Record 37 of Set 4 | gelnica\n",
      "Processing Record 38 of Set 4 | tangier\n",
      "Processing Record 39 of Set 4 | mareeba\n",
      "Processing Record 40 of Set 4 | vila velha\n",
      "Processing Record 41 of Set 4 | norman wells\n",
      "Processing Record 42 of Set 4 | namibe\n",
      "Processing Record 43 of Set 4 | moreira sales\n",
      "Processing Record 44 of Set 4 | lagoa\n",
      "Processing Record 45 of Set 4 | spas-klepiki\n",
      "Processing Record 46 of Set 4 | beira\n",
      "Processing Record 47 of Set 4 | la libertad\n",
      "Processing Record 48 of Set 4 | hasaki\n",
      "Processing Record 49 of Set 4 | lorengau\n",
      "Processing Record 50 of Set 4 | barrow\n",
      "Processing Record 1 of Set 5 | saint thomas\n",
      "Processing Record 2 of Set 5 | camacha\n",
      "Processing Record 3 of Set 5 | auch\n",
      "Processing Record 4 of Set 5 | pullman\n"
     ]
    },
    {
     "name": "stdout",
     "output_type": "stream",
     "text": [
      "Processing Record 5 of Set 5 | hit\n",
      "Processing Record 6 of Set 5 | isangel\n",
      "Processing Record 7 of Set 5 | olinda\n",
      "Processing Record 8 of Set 5 | tual\n",
      "Processing Record 9 of Set 5 | bethel\n",
      "Processing Record 10 of Set 5 | iqaluit\n",
      "Processing Record 11 of Set 5 | tiksi\n",
      "Processing Record 12 of Set 5 | mirnyy\n",
      "Processing Record 13 of Set 5 | masoko\n",
      "Processing Record 14 of Set 5 | te anau\n",
      "Processing Record 15 of Set 5 | mokhsogollokh\n",
      "Processing Record 16 of Set 5 | menongue\n",
      "Processing Record 17 of Set 5 | aleksandrov gay\n",
      "Processing Record 18 of Set 5 | kyshtym\n",
      "Processing Record 19 of Set 5 | chicama\n",
      "Processing Record 20 of Set 5 | san cristobal\n",
      "Processing Record 21 of Set 5 | vardo\n",
      "Processing Record 22 of Set 5 | magdagachi\n",
      "Processing Record 23 of Set 5 | tura\n",
      "Processing Record 24 of Set 5 | kieta\n",
      "Processing Record 25 of Set 5 | talnakh\n",
      "Processing Record 26 of Set 5 | colombo\n",
      "City not found. Skipping...\n",
      "Processing Record 28 of Set 5 | yerbogachen\n",
      "Processing Record 29 of Set 5 | provideniya\n",
      "Processing Record 30 of Set 5 | iquitos\n",
      "City not found. Skipping...\n",
      "Processing Record 32 of Set 5 | aklavik\n",
      "Processing Record 33 of Set 5 | carson city\n",
      "Processing Record 34 of Set 5 | tsumeb\n",
      "Processing Record 35 of Set 5 | damietta\n",
      "Processing Record 36 of Set 5 | changchun\n",
      "Processing Record 37 of Set 5 | ostrovnoy\n",
      "Processing Record 38 of Set 5 | asau\n",
      "Processing Record 39 of Set 5 | roald\n",
      "Processing Record 40 of Set 5 | betsiamites\n",
      "Processing Record 41 of Set 5 | fort nelson\n",
      "Processing Record 42 of Set 5 | kuminskiy\n",
      "Processing Record 43 of Set 5 | tuktoyaktuk\n",
      "Processing Record 44 of Set 5 | komsomolskiy\n",
      "Processing Record 45 of Set 5 | basoko\n",
      "Processing Record 46 of Set 5 | faanui\n",
      "City not found. Skipping...\n",
      "Processing Record 48 of Set 5 | greencastle\n",
      "Processing Record 49 of Set 5 | otukpo\n",
      "Processing Record 50 of Set 5 | lalmohan\n",
      "Processing Record 1 of Set 6 | maldonado\n",
      "Processing Record 2 of Set 6 | linxia\n",
      "Processing Record 3 of Set 6 | mount isa\n",
      "Processing Record 4 of Set 6 | san carlos de bariloche\n",
      "Processing Record 5 of Set 6 | sibolga\n",
      "Processing Record 6 of Set 6 | lobito\n",
      "Processing Record 7 of Set 6 | aykhal\n",
      "Processing Record 8 of Set 6 | katobu\n",
      "Processing Record 9 of Set 6 | hambantota\n",
      "Processing Record 10 of Set 6 | port macquarie\n",
      "Processing Record 11 of Set 6 | airai\n",
      "Processing Record 12 of Set 6 | souillac\n",
      "Processing Record 13 of Set 6 | shaowu\n",
      "Processing Record 14 of Set 6 | presidencia roque saenz pena\n",
      "Processing Record 15 of Set 6 | piney green\n",
      "Processing Record 16 of Set 6 | dubovskoye\n",
      "Processing Record 17 of Set 6 | victoria\n",
      "Processing Record 18 of Set 6 | conde\n",
      "Processing Record 19 of Set 6 | kaitangata\n",
      "Processing Record 20 of Set 6 | punta alta\n",
      "Processing Record 21 of Set 6 | holoby\n",
      "City not found. Skipping...\n",
      "Processing Record 23 of Set 6 | tanout\n",
      "City not found. Skipping...\n",
      "Processing Record 25 of Set 6 | port elizabeth\n",
      "Processing Record 26 of Set 6 | riyadh\n",
      "Processing Record 27 of Set 6 | laguna\n",
      "Processing Record 28 of Set 6 | taitung\n",
      "Processing Record 29 of Set 6 | buala\n",
      "Processing Record 30 of Set 6 | longyearbyen\n",
      "Processing Record 31 of Set 6 | pochutla\n",
      "Processing Record 32 of Set 6 | adrar\n",
      "Processing Record 33 of Set 6 | mersing\n",
      "Processing Record 34 of Set 6 | maniitsoq\n",
      "Processing Record 35 of Set 6 | safaga\n",
      "Processing Record 36 of Set 6 | ambam\n",
      "Processing Record 37 of Set 6 | teya\n",
      "Processing Record 38 of Set 6 | hay river\n",
      "Processing Record 39 of Set 6 | sagua la grande\n",
      "Processing Record 40 of Set 6 | prado\n",
      "Processing Record 41 of Set 6 | kahului\n",
      "Processing Record 42 of Set 6 | cardston\n",
      "Processing Record 43 of Set 6 | yumbing\n",
      "Processing Record 44 of Set 6 | farafangana\n",
      "Processing Record 45 of Set 6 | timra\n",
      "Processing Record 46 of Set 6 | ust-ishim\n",
      "Processing Record 47 of Set 6 | ironton\n",
      "City not found. Skipping...\n",
      "Processing Record 49 of Set 6 | galesong\n",
      "Processing Record 50 of Set 6 | krasnotorka\n",
      "Processing Record 1 of Set 7 | rapid city\n",
      "Processing Record 2 of Set 7 | lugoba\n",
      "Processing Record 3 of Set 7 | sasolburg\n",
      "Processing Record 4 of Set 7 | yulara\n",
      "Processing Record 5 of Set 7 | chumikan\n",
      "Processing Record 6 of Set 7 | marawi\n",
      "Processing Record 7 of Set 7 | anito\n",
      "Processing Record 8 of Set 7 | uni\n",
      "Processing Record 9 of Set 7 | natal\n",
      "Processing Record 10 of Set 7 | oyon\n",
      "Processing Record 11 of Set 7 | kulevcha\n",
      "Processing Record 12 of Set 7 | puerto lleras\n",
      "Processing Record 13 of Set 7 | egvekinot\n",
      "Processing Record 14 of Set 7 | arman\n",
      "City not found. Skipping...\n",
      "Processing Record 16 of Set 7 | pevek\n",
      "Processing Record 17 of Set 7 | paracuru\n",
      "City not found. Skipping...\n",
      "Processing Record 19 of Set 7 | portland\n",
      "Processing Record 20 of Set 7 | salalah\n",
      "Processing Record 21 of Set 7 | harper\n",
      "Processing Record 22 of Set 7 | mendota\n",
      "Processing Record 23 of Set 7 | lavrentiya\n",
      "Processing Record 24 of Set 7 | filadelfia\n",
      "Processing Record 25 of Set 7 | lata\n",
      "Processing Record 26 of Set 7 | meulaboh\n",
      "Processing Record 27 of Set 7 | bilma\n",
      "Processing Record 28 of Set 7 | bonthe\n",
      "Processing Record 29 of Set 7 | kloulklubed\n",
      "Processing Record 30 of Set 7 | jacksonville\n",
      "Processing Record 31 of Set 7 | necochea\n",
      "Processing Record 32 of Set 7 | martapura\n",
      "Processing Record 33 of Set 7 | veraval\n",
      "Processing Record 34 of Set 7 | vestmanna\n",
      "Processing Record 35 of Set 7 | naze\n",
      "Processing Record 36 of Set 7 | cairns\n",
      "Processing Record 37 of Set 7 | develi\n",
      "Processing Record 38 of Set 7 | arvi\n",
      "Processing Record 39 of Set 7 | torbay\n",
      "Processing Record 40 of Set 7 | akyab\n",
      "Processing Record 41 of Set 7 | hella\n",
      "Processing Record 42 of Set 7 | asfi\n",
      "Processing Record 43 of Set 7 | carballo\n",
      "Processing Record 44 of Set 7 | guerrero negro\n",
      "Processing Record 45 of Set 7 | port blair\n",
      "Processing Record 46 of Set 7 | camocim\n",
      "Processing Record 47 of Set 7 | erenhot\n",
      "Processing Record 48 of Set 7 | evensk\n",
      "Processing Record 49 of Set 7 | rzeszow\n",
      "Processing Record 50 of Set 7 | liseleje\n",
      "Processing Record 1 of Set 8 | cidreira\n",
      "Processing Record 2 of Set 8 | amapa\n",
      "Processing Record 3 of Set 8 | havelock\n",
      "Processing Record 4 of Set 8 | batie\n",
      "Processing Record 5 of Set 8 | marzuq\n",
      "Processing Record 6 of Set 8 | kalulushi\n",
      "Processing Record 7 of Set 8 | ola\n",
      "Processing Record 8 of Set 8 | bolgatanga\n",
      "Processing Record 9 of Set 8 | pachino\n",
      "Processing Record 10 of Set 8 | wiarton\n",
      "Processing Record 11 of Set 8 | matagami\n",
      "Processing Record 12 of Set 8 | gazanjyk\n",
      "Processing Record 13 of Set 8 | marsh harbour\n",
      "Processing Record 14 of Set 8 | presidente epitacio\n",
      "Processing Record 15 of Set 8 | klaksvik\n",
      "Processing Record 16 of Set 8 | tarata\n",
      "Processing Record 17 of Set 8 | nizhniy ingash\n",
      "Processing Record 18 of Set 8 | auka\n",
      "Processing Record 19 of Set 8 | tarakan\n",
      "Processing Record 20 of Set 8 | jardim\n",
      "Processing Record 21 of Set 8 | port hardy\n",
      "Processing Record 22 of Set 8 | matara\n",
      "Processing Record 23 of Set 8 | kavaratti\n",
      "Processing Record 24 of Set 8 | katsuura\n",
      "Processing Record 25 of Set 8 | sambava\n",
      "Processing Record 26 of Set 8 | udachnyy\n",
      "Processing Record 27 of Set 8 | sawakin\n",
      "Processing Record 28 of Set 8 | kruisfontein\n",
      "Processing Record 29 of Set 8 | bolobo\n",
      "Processing Record 30 of Set 8 | saint george\n",
      "Processing Record 31 of Set 8 | nyurba\n",
      "Processing Record 32 of Set 8 | takoradi\n",
      "Processing Record 33 of Set 8 | malinovoye ozero\n",
      "Processing Record 34 of Set 8 | saint-prosper\n",
      "Processing Record 35 of Set 8 | dukat\n",
      "Processing Record 36 of Set 8 | vostok\n",
      "Processing Record 37 of Set 8 | san quintin\n",
      "Processing Record 38 of Set 8 | victoria point\n",
      "Processing Record 39 of Set 8 | warrnambool\n",
      "Processing Record 40 of Set 8 | molokovo\n",
      "Processing Record 41 of Set 8 | lumsden\n",
      "Processing Record 42 of Set 8 | kaeo\n",
      "City not found. Skipping...\n",
      "Processing Record 44 of Set 8 | champerico\n",
      "Processing Record 45 of Set 8 | tukrah\n",
      "Processing Record 46 of Set 8 | port keats\n",
      "Processing Record 47 of Set 8 | bardiyah\n",
      "Processing Record 48 of Set 8 | bend\n",
      "Processing Record 49 of Set 8 | marau\n",
      "Processing Record 50 of Set 8 | puerto cabezas\n",
      "Processing Record 1 of Set 9 | umm kaddadah\n",
      "City not found. Skipping...\n",
      "Processing Record 3 of Set 9 | vao\n",
      "City not found. Skipping...\n",
      "Processing Record 5 of Set 9 | vanavara\n",
      "City not found. Skipping...\n",
      "City not found. Skipping...\n",
      "City not found. Skipping...\n",
      "Processing Record 9 of Set 9 | nelson bay\n",
      "Processing Record 10 of Set 9 | maceio\n",
      "Processing Record 11 of Set 9 | meadow lake\n"
     ]
    },
    {
     "name": "stdout",
     "output_type": "stream",
     "text": [
      "Processing Record 12 of Set 9 | grindavik\n",
      "Processing Record 13 of Set 9 | olafsvik\n",
      "City not found. Skipping...\n",
      "Processing Record 15 of Set 9 | khani\n",
      "Processing Record 16 of Set 9 | denpasar\n",
      "Processing Record 17 of Set 9 | hobyo\n",
      "City not found. Skipping...\n",
      "Processing Record 19 of Set 9 | beringovskiy\n",
      "Processing Record 20 of Set 9 | mitsamiouli\n",
      "Processing Record 21 of Set 9 | sawang daen din\n",
      "Processing Record 22 of Set 9 | makat\n",
      "Processing Record 23 of Set 9 | georgetown\n",
      "Processing Record 24 of Set 9 | la rioja\n",
      "Processing Record 25 of Set 9 | ilmajoki\n",
      "Processing Record 26 of Set 9 | devils lake\n",
      "Processing Record 27 of Set 9 | orhei\n",
      "Processing Record 28 of Set 9 | shubarkuduk\n",
      "Processing Record 29 of Set 9 | bonavista\n",
      "Processing Record 30 of Set 9 | fortuna\n",
      "Processing Record 31 of Set 9 | tabou\n",
      "Processing Record 32 of Set 9 | parana\n",
      "Processing Record 33 of Set 9 | tautira\n",
      "Processing Record 34 of Set 9 | libertador general san martin\n",
      "Processing Record 35 of Set 9 | rocha\n",
      "Processing Record 36 of Set 9 | monrovia\n",
      "Processing Record 37 of Set 9 | megion\n",
      "Processing Record 38 of Set 9 | byron bay\n",
      "Processing Record 39 of Set 9 | ilhabela\n",
      "Processing Record 40 of Set 9 | saucillo\n",
      "Processing Record 41 of Set 9 | mahon\n",
      "Processing Record 42 of Set 9 | emerald\n",
      "Processing Record 43 of Set 9 | grajau\n",
      "Processing Record 44 of Set 9 | gorele\n",
      "Processing Record 45 of Set 9 | methoni\n",
      "City not found. Skipping...\n",
      "Processing Record 47 of Set 9 | sisimiut\n",
      "Processing Record 48 of Set 9 | kaohsiung\n",
      "Processing Record 49 of Set 9 | san lawrenz\n",
      "Processing Record 50 of Set 9 | tevaitoa\n",
      "Processing Record 1 of Set 10 | nanortalik\n",
      "Processing Record 2 of Set 10 | taganak\n",
      "Processing Record 3 of Set 10 | pacific grove\n",
      "Processing Record 4 of Set 10 | san jacinto\n",
      "Processing Record 5 of Set 10 | coihaique\n",
      "Processing Record 6 of Set 10 | nizhniy odes\n",
      "Processing Record 7 of Set 10 | saqqez\n",
      "Processing Record 8 of Set 10 | ondjiva\n",
      "Processing Record 9 of Set 10 | sao gabriel da cachoeira\n",
      "Processing Record 10 of Set 10 | palmer\n",
      "Processing Record 11 of Set 10 | tuatapere\n",
      "Processing Record 12 of Set 10 | carnarvon\n",
      "Processing Record 13 of Set 10 | jaroslaw\n",
      "Processing Record 14 of Set 10 | nemuro\n",
      "Processing Record 15 of Set 10 | sobolevo\n",
      "Processing Record 16 of Set 10 | stephenville\n",
      "Processing Record 17 of Set 10 | borogontsy\n",
      "Processing Record 18 of Set 10 | enid\n",
      "Processing Record 19 of Set 10 | casambalangan\n",
      "Processing Record 20 of Set 10 | tokmak\n",
      "Processing Record 21 of Set 10 | katangli\n",
      "Processing Record 22 of Set 10 | quelimane\n",
      "City not found. Skipping...\n",
      "Processing Record 24 of Set 10 | indiana\n",
      "Processing Record 25 of Set 10 | broome\n",
      "Processing Record 26 of Set 10 | korla\n",
      "Processing Record 27 of Set 10 | ouesso\n",
      "City not found. Skipping...\n",
      "City not found. Skipping...\n",
      "Processing Record 30 of Set 10 | zhaoqing\n",
      "Processing Record 31 of Set 10 | grandview\n",
      "Processing Record 32 of Set 10 | dunedin\n",
      "Processing Record 33 of Set 10 | daru\n",
      "Processing Record 34 of Set 10 | ribeira grande\n",
      "Processing Record 35 of Set 10 | carlagan\n",
      "Processing Record 36 of Set 10 | sinegorskiy\n",
      "Processing Record 37 of Set 10 | awjilah\n",
      "Processing Record 38 of Set 10 | narsaq\n",
      "Processing Record 39 of Set 10 | mazyr\n",
      "Processing Record 40 of Set 10 | rorvik\n",
      "Processing Record 41 of Set 10 | pastavy\n",
      "Processing Record 42 of Set 10 | high level\n",
      "Processing Record 43 of Set 10 | kholmogory\n",
      "City not found. Skipping...\n",
      "Processing Record 45 of Set 10 | gasa\n",
      "Processing Record 46 of Set 10 | yining\n",
      "Processing Record 47 of Set 10 | beinamar\n",
      "Processing Record 48 of Set 10 | roebourne\n",
      "Processing Record 49 of Set 10 | plonsk\n",
      "Processing Record 50 of Set 10 | lom sak\n",
      "City not found. Skipping...\n",
      "Processing Record 2 of Set 11 | itarema\n",
      "Processing Record 3 of Set 11 | grosse pointe farms\n",
      "Processing Record 4 of Set 11 | odweyne\n",
      "Processing Record 5 of Set 11 | worland\n",
      "Processing Record 6 of Set 11 | carutapera\n",
      "Processing Record 7 of Set 11 | catuday\n",
      "Processing Record 8 of Set 11 | mehamn\n",
      "Processing Record 9 of Set 11 | broken hill\n",
      "Processing Record 10 of Set 11 | taywarah\n",
      "Processing Record 11 of Set 11 | requena\n",
      "Processing Record 12 of Set 11 | lasa\n",
      "Processing Record 13 of Set 11 | sakaiminato\n",
      "Processing Record 14 of Set 11 | hofn\n",
      "Processing Record 15 of Set 11 | codrington\n",
      "Processing Record 16 of Set 11 | rotifunk\n",
      "Processing Record 17 of Set 11 | samarinda\n",
      "Processing Record 18 of Set 11 | najran\n",
      "Processing Record 19 of Set 11 | kudahuvadhoo\n",
      "Processing Record 20 of Set 11 | roros\n",
      "Processing Record 21 of Set 11 | zyryanka\n",
      "Processing Record 22 of Set 11 | nome\n",
      "Processing Record 23 of Set 11 | berdigestyakh\n",
      "Processing Record 24 of Set 11 | letlhakeng\n",
      "Processing Record 25 of Set 11 | berlevag\n",
      "Processing Record 26 of Set 11 | craig\n",
      "Processing Record 27 of Set 11 | sur\n",
      "Processing Record 28 of Set 11 | puerto escondido\n",
      "Processing Record 29 of Set 11 | seoul\n",
      "Processing Record 30 of Set 11 | turukhansk\n",
      "Processing Record 31 of Set 11 | zhezkazgan\n",
      "Processing Record 32 of Set 11 | bay-khaak\n",
      "Processing Record 33 of Set 11 | balkanabat\n",
      "Processing Record 34 of Set 11 | horki\n",
      "Processing Record 35 of Set 11 | banda aceh\n",
      "Processing Record 36 of Set 11 | umm lajj\n",
      "Processing Record 37 of Set 11 | caravelas\n",
      "Processing Record 38 of Set 11 | hamilton\n",
      "Processing Record 39 of Set 11 | port-gentil\n",
      "City not found. Skipping...\n",
      "Processing Record 41 of Set 11 | pangai\n",
      "Processing Record 42 of Set 11 | normandin\n",
      "City not found. Skipping...\n",
      "Processing Record 44 of Set 11 | mende\n",
      "Processing Record 45 of Set 11 | jalu\n",
      "Processing Record 46 of Set 11 | sudova vyshnya\n",
      "Processing Record 47 of Set 11 | petropavlovsk-kamchatskiy\n",
      "Processing Record 48 of Set 11 | vetlanda\n",
      "Processing Record 49 of Set 11 | christchurch\n",
      "Processing Record 50 of Set 11 | talara\n",
      "Processing Record 1 of Set 12 | pangnirtung\n",
      "Processing Record 2 of Set 12 | nantucket\n",
      "City not found. Skipping...\n",
      "Processing Record 4 of Set 12 | hirara\n",
      "Processing Record 5 of Set 12 | shestakovo\n",
      "Processing Record 6 of Set 12 | morondava\n",
      "Processing Record 7 of Set 12 | vila franca do campo\n",
      "Processing Record 8 of Set 12 | san isidro\n",
      "Processing Record 9 of Set 12 | half moon bay\n",
      "Processing Record 10 of Set 12 | louis trichardt\n",
      "Processing Record 11 of Set 12 | goundam\n",
      "Processing Record 12 of Set 12 | griffith\n",
      "Processing Record 13 of Set 12 | miguel hidalgo\n",
      "Processing Record 14 of Set 12 | fairbanks\n",
      "Processing Record 15 of Set 12 | igurusi\n",
      "Processing Record 16 of Set 12 | chifeng\n",
      "Processing Record 17 of Set 12 | zwedru\n",
      "City not found. Skipping...\n",
      "Processing Record 19 of Set 12 | hovd\n",
      "City not found. Skipping...\n",
      "Processing Record 21 of Set 12 | laje\n",
      "Processing Record 22 of Set 12 | samarai\n",
      "Processing Record 23 of Set 12 | brae\n",
      "Processing Record 24 of Set 12 | kinablangan\n",
      "Processing Record 25 of Set 12 | san vicente\n",
      "Processing Record 26 of Set 12 | linhares\n",
      "Processing Record 27 of Set 12 | bambui\n",
      "City not found. Skipping...\n",
      "Processing Record 29 of Set 12 | ryki\n",
      "Processing Record 30 of Set 12 | williams lake\n",
      "City not found. Skipping...\n",
      "Processing Record 32 of Set 12 | puerto penasco\n",
      "Processing Record 33 of Set 12 | usinsk\n",
      "City not found. Skipping...\n",
      "Processing Record 35 of Set 12 | jampur\n",
      "Processing Record 36 of Set 12 | ixtapa\n",
      "Processing Record 37 of Set 12 | mnogovershinnyy\n",
      "Processing Record 38 of Set 12 | abu samrah\n",
      "Processing Record 39 of Set 12 | lenguazaque\n",
      "Processing Record 40 of Set 12 | calama\n",
      "Processing Record 41 of Set 12 | belmonte\n",
      "City not found. Skipping...\n",
      "Processing Record 43 of Set 12 | koungou\n",
      "Processing Record 44 of Set 12 | san juan bautista\n",
      "Processing Record 45 of Set 12 | neiafu\n",
      "Processing Record 46 of Set 12 | sitka\n",
      "Processing Record 47 of Set 12 | kirkland lake\n",
      "Processing Record 48 of Set 12 | rancho palos verdes\n",
      "Processing Record 49 of Set 12 | gayeri\n",
      "Processing Record 50 of Set 12 | calamar\n",
      "Processing Record 1 of Set 13 | whitehorse\n",
      "Processing Record 2 of Set 13 | constitucion\n",
      "Processing Record 3 of Set 13 | turayf\n",
      "Processing Record 4 of Set 13 | parfenyevo\n",
      "Processing Record 5 of Set 13 | moree\n",
      "Processing Record 6 of Set 13 | grand gaube\n",
      "Processing Record 7 of Set 13 | dudinka\n",
      "Processing Record 8 of Set 13 | gat\n",
      "Processing Record 9 of Set 13 | nisia floresta\n",
      "Processing Record 10 of Set 13 | baykit\n",
      "Processing Record 11 of Set 13 | antalaha\n"
     ]
    },
    {
     "name": "stdout",
     "output_type": "stream",
     "text": [
      "Processing Record 12 of Set 13 | erzin\n",
      "Processing Record 13 of Set 13 | uravakonda\n",
      "Processing Record 14 of Set 13 | kenora\n",
      "Processing Record 15 of Set 13 | burnie\n",
      "Processing Record 16 of Set 13 | east stroudsburg\n",
      "-------------------------------\n",
      "Data Retrieval Complete\n",
      "-------------------------------\n"
     ]
    }
   ],
   "source": [
    "# Save the config information\n",
    "url = \"http://api.openweathermap.org/data/2.5/weather?\"\n",
    "units = \"metric\"\n",
    "\n",
    "# Set empty lists to hold data\n",
    "city = []\n",
    "lat = []\n",
    "lng = []\n",
    "max_temp = []\n",
    "humidity = []\n",
    "cloudiness = []\n",
    "win_speed = []\n",
    "country = []\n",
    "date = []\n",
    "\n",
    "# Build partial query URL\n",
    "query_url = f\"{url}appid={weather_api_key}&units={units}&q=\"\n",
    "\n",
    "print(\"Beginning Data Retrieval\")\n",
    "print(\"-------------------------------\")\n",
    "\n",
    "# loop through each city\n",
    "counter = 0\n",
    "counter_id = 1\n",
    "set_id = 1\n",
    "\n",
    "for i in range(len(cities)):\n",
    "    counter = counter + 1\n",
    "    \n",
    "    if counter < 50:\n",
    "        set_id = set_id\n",
    "        counter_id = counter_id + 1\n",
    "    else:\n",
    "        counter = 0\n",
    "        counter_id = 1\n",
    "        set_id = set_id + 1\n",
    "     \n",
    "    response = requests.get(query_url + cities[i])\n",
    "    response_json = response.json()\n",
    "    \n",
    "    try:\n",
    "        city.append(response_json[\"name\"])\n",
    "        lat.append(response_json[\"coord\"][\"lat\"])\n",
    "        lng.append(response_json[\"coord\"][\"lon\"])\n",
    "        max_temp.append(response_json[\"main\"][\"temp_max\"])\n",
    "        humidity.append(response_json[\"main\"][\"humidity\"])\n",
    "        cloudiness.append(response_json[\"clouds\"][\"all\"])\n",
    "        win_speed.append(response_json[\"wind\"][\"speed\"])\n",
    "        country.append(response_json[\"sys\"][\"country\"])\n",
    "        date.append(response_json[\"dt\"])\n",
    "        print(f\"Processing Record {counter_id} of Set {set_id} | {cities[i]}\")\n",
    "        \n",
    "    except:\n",
    "        print(\"City not found. Skipping...\")\n",
    "        pass\n",
    "        \n",
    "print(\"-------------------------------\")\n",
    "print(\"Data Retrieval Complete\")\n",
    "print(\"-------------------------------\")"
   ]
  },
  {
   "cell_type": "markdown",
   "metadata": {},
   "source": [
    "### Convert Raw Data to DataFrame\n",
    "* Export the city data into a .csv.\n",
    "* Display the DataFrame"
   ]
  },
  {
   "cell_type": "code",
   "execution_count": 160,
   "metadata": {},
   "outputs": [
    {
     "data": {
      "text/html": [
       "<div>\n",
       "<style scoped>\n",
       "    .dataframe tbody tr th:only-of-type {\n",
       "        vertical-align: middle;\n",
       "    }\n",
       "\n",
       "    .dataframe tbody tr th {\n",
       "        vertical-align: top;\n",
       "    }\n",
       "\n",
       "    .dataframe thead th {\n",
       "        text-align: right;\n",
       "    }\n",
       "</style>\n",
       "<table border=\"1\" class=\"dataframe\">\n",
       "  <thead>\n",
       "    <tr style=\"text-align: right;\">\n",
       "      <th></th>\n",
       "      <th>City</th>\n",
       "      <th>Lat</th>\n",
       "      <th>Lng</th>\n",
       "      <th>Max Temp</th>\n",
       "      <th>Humidity</th>\n",
       "      <th>Cloudiness</th>\n",
       "      <th>Wind Speed</th>\n",
       "      <th>Country</th>\n",
       "      <th>Date</th>\n",
       "    </tr>\n",
       "  </thead>\n",
       "  <tbody>\n",
       "    <tr>\n",
       "      <th>0</th>\n",
       "      <td>Lázaro Cárdenas</td>\n",
       "      <td>17.9583</td>\n",
       "      <td>-102.2000</td>\n",
       "      <td>24.61</td>\n",
       "      <td>75</td>\n",
       "      <td>82</td>\n",
       "      <td>1.70</td>\n",
       "      <td>MX</td>\n",
       "      <td>1619496156</td>\n",
       "    </tr>\n",
       "    <tr>\n",
       "      <th>1</th>\n",
       "      <td>Avila</td>\n",
       "      <td>40.5833</td>\n",
       "      <td>-5.0000</td>\n",
       "      <td>8.33</td>\n",
       "      <td>89</td>\n",
       "      <td>56</td>\n",
       "      <td>0.89</td>\n",
       "      <td>ES</td>\n",
       "      <td>1619496171</td>\n",
       "    </tr>\n",
       "    <tr>\n",
       "      <th>2</th>\n",
       "      <td>Bredasdorp</td>\n",
       "      <td>-34.5322</td>\n",
       "      <td>20.0403</td>\n",
       "      <td>14.00</td>\n",
       "      <td>88</td>\n",
       "      <td>97</td>\n",
       "      <td>1.54</td>\n",
       "      <td>ZA</td>\n",
       "      <td>1619496039</td>\n",
       "    </tr>\n",
       "    <tr>\n",
       "      <th>3</th>\n",
       "      <td>Ushuaia</td>\n",
       "      <td>-54.8000</td>\n",
       "      <td>-68.3000</td>\n",
       "      <td>6.00</td>\n",
       "      <td>87</td>\n",
       "      <td>40</td>\n",
       "      <td>1.03</td>\n",
       "      <td>AR</td>\n",
       "      <td>1619495977</td>\n",
       "    </tr>\n",
       "    <tr>\n",
       "      <th>4</th>\n",
       "      <td>Jaisinghnagar</td>\n",
       "      <td>23.7000</td>\n",
       "      <td>81.3833</td>\n",
       "      <td>35.71</td>\n",
       "      <td>6</td>\n",
       "      <td>76</td>\n",
       "      <td>1.75</td>\n",
       "      <td>IN</td>\n",
       "      <td>1619496172</td>\n",
       "    </tr>\n",
       "  </tbody>\n",
       "</table>\n",
       "</div>"
      ],
      "text/plain": [
       "              City      Lat       Lng  Max Temp  Humidity  Cloudiness  \\\n",
       "0  Lázaro Cárdenas  17.9583 -102.2000     24.61        75          82   \n",
       "1            Avila  40.5833   -5.0000      8.33        89          56   \n",
       "2       Bredasdorp -34.5322   20.0403     14.00        88          97   \n",
       "3          Ushuaia -54.8000  -68.3000      6.00        87          40   \n",
       "4    Jaisinghnagar  23.7000   81.3833     35.71         6          76   \n",
       "\n",
       "   Wind Speed Country        Date  \n",
       "0        1.70      MX  1619496156  \n",
       "1        0.89      ES  1619496171  \n",
       "2        1.54      ZA  1619496039  \n",
       "3        1.03      AR  1619495977  \n",
       "4        1.75      IN  1619496172  "
      ]
     },
     "execution_count": 160,
     "metadata": {},
     "output_type": "execute_result"
    }
   ],
   "source": [
    "cities_data = pd.DataFrame({\"City\":city, \n",
    "                            \"Lat\":lat, \n",
    "                            \"Lng\":lng, \n",
    "                            \"Max Temp\":max_temp, \n",
    "                            \"Humidity\":humidity, \n",
    "                            \"Cloudiness\":cloudiness,\n",
    "                            \"Wind Speed\":win_speed,\n",
    "                            \"Country\":country,\n",
    "                            \"Date\":date\n",
    "                           })\n",
    "cities_data.to_csv(\"output_data/citiesdata.csv\", index=False, header=True)\n",
    "cities_data.head()"
   ]
  },
  {
   "cell_type": "code",
   "execution_count": 161,
   "metadata": {},
   "outputs": [
    {
     "data": {
      "text/html": [
       "<div>\n",
       "<style scoped>\n",
       "    .dataframe tbody tr th:only-of-type {\n",
       "        vertical-align: middle;\n",
       "    }\n",
       "\n",
       "    .dataframe tbody tr th {\n",
       "        vertical-align: top;\n",
       "    }\n",
       "\n",
       "    .dataframe thead th {\n",
       "        text-align: right;\n",
       "    }\n",
       "</style>\n",
       "<table border=\"1\" class=\"dataframe\">\n",
       "  <thead>\n",
       "    <tr style=\"text-align: right;\">\n",
       "      <th></th>\n",
       "      <th>Lat</th>\n",
       "      <th>Lng</th>\n",
       "      <th>Max Temp</th>\n",
       "      <th>Humidity</th>\n",
       "      <th>Cloudiness</th>\n",
       "      <th>Wind Speed</th>\n",
       "      <th>Date</th>\n",
       "    </tr>\n",
       "  </thead>\n",
       "  <tbody>\n",
       "    <tr>\n",
       "      <th>count</th>\n",
       "      <td>563.000000</td>\n",
       "      <td>563.000000</td>\n",
       "      <td>563.000000</td>\n",
       "      <td>563.000000</td>\n",
       "      <td>563.000000</td>\n",
       "      <td>563.000000</td>\n",
       "      <td>5.630000e+02</td>\n",
       "    </tr>\n",
       "    <tr>\n",
       "      <th>mean</th>\n",
       "      <td>20.435275</td>\n",
       "      <td>15.153830</td>\n",
       "      <td>15.283321</td>\n",
       "      <td>70.220249</td>\n",
       "      <td>53.760213</td>\n",
       "      <td>3.201901</td>\n",
       "      <td>1.619496e+09</td>\n",
       "    </tr>\n",
       "    <tr>\n",
       "      <th>std</th>\n",
       "      <td>33.599577</td>\n",
       "      <td>90.533356</td>\n",
       "      <td>11.023214</td>\n",
       "      <td>22.444581</td>\n",
       "      <td>37.807920</td>\n",
       "      <td>2.137327</td>\n",
       "      <td>9.363382e+01</td>\n",
       "    </tr>\n",
       "    <tr>\n",
       "      <th>min</th>\n",
       "      <td>-54.800000</td>\n",
       "      <td>-179.166700</td>\n",
       "      <td>-13.890000</td>\n",
       "      <td>1.000000</td>\n",
       "      <td>0.000000</td>\n",
       "      <td>0.210000</td>\n",
       "      <td>1.619496e+09</td>\n",
       "    </tr>\n",
       "    <tr>\n",
       "      <th>25%</th>\n",
       "      <td>-8.076950</td>\n",
       "      <td>-66.552950</td>\n",
       "      <td>6.110000</td>\n",
       "      <td>60.000000</td>\n",
       "      <td>17.000000</td>\n",
       "      <td>1.540000</td>\n",
       "      <td>1.619496e+09</td>\n",
       "    </tr>\n",
       "    <tr>\n",
       "      <th>50%</th>\n",
       "      <td>25.021300</td>\n",
       "      <td>21.548200</td>\n",
       "      <td>16.670000</td>\n",
       "      <td>75.000000</td>\n",
       "      <td>57.000000</td>\n",
       "      <td>2.600000</td>\n",
       "      <td>1.619496e+09</td>\n",
       "    </tr>\n",
       "    <tr>\n",
       "      <th>75%</th>\n",
       "      <td>48.898550</td>\n",
       "      <td>92.825000</td>\n",
       "      <td>24.435000</td>\n",
       "      <td>87.000000</td>\n",
       "      <td>90.000000</td>\n",
       "      <td>4.120000</td>\n",
       "      <td>1.619496e+09</td>\n",
       "    </tr>\n",
       "    <tr>\n",
       "      <th>max</th>\n",
       "      <td>78.218600</td>\n",
       "      <td>179.316700</td>\n",
       "      <td>37.060000</td>\n",
       "      <td>100.000000</td>\n",
       "      <td>100.000000</td>\n",
       "      <td>12.860000</td>\n",
       "      <td>1.619496e+09</td>\n",
       "    </tr>\n",
       "  </tbody>\n",
       "</table>\n",
       "</div>"
      ],
      "text/plain": [
       "              Lat         Lng    Max Temp    Humidity  Cloudiness  Wind Speed  \\\n",
       "count  563.000000  563.000000  563.000000  563.000000  563.000000  563.000000   \n",
       "mean    20.435275   15.153830   15.283321   70.220249   53.760213    3.201901   \n",
       "std     33.599577   90.533356   11.023214   22.444581   37.807920    2.137327   \n",
       "min    -54.800000 -179.166700  -13.890000    1.000000    0.000000    0.210000   \n",
       "25%     -8.076950  -66.552950    6.110000   60.000000   17.000000    1.540000   \n",
       "50%     25.021300   21.548200   16.670000   75.000000   57.000000    2.600000   \n",
       "75%     48.898550   92.825000   24.435000   87.000000   90.000000    4.120000   \n",
       "max     78.218600  179.316700   37.060000  100.000000  100.000000   12.860000   \n",
       "\n",
       "               Date  \n",
       "count  5.630000e+02  \n",
       "mean   1.619496e+09  \n",
       "std    9.363382e+01  \n",
       "min    1.619496e+09  \n",
       "25%    1.619496e+09  \n",
       "50%    1.619496e+09  \n",
       "75%    1.619496e+09  \n",
       "max    1.619496e+09  "
      ]
     },
     "execution_count": 161,
     "metadata": {},
     "output_type": "execute_result"
    }
   ],
   "source": [
    "cities_data.describe()"
   ]
  },
  {
   "cell_type": "markdown",
   "metadata": {},
   "source": [
    "## Inspect the data and remove the cities where the humidity > 100%.\n",
    "----\n",
    "Skip this step if there are no cities that have humidity > 100%. "
   ]
  },
  {
   "cell_type": "code",
   "execution_count": 162,
   "metadata": {},
   "outputs": [
    {
     "data": {
      "text/plain": [
       "[]"
      ]
     },
     "execution_count": 162,
     "metadata": {},
     "output_type": "execute_result"
    }
   ],
   "source": [
    "#  Get the indices of cities that have humidity over 100%.\n",
    "index_label = cities_data[cities_data['Humidity']>100].index.tolist()\n",
    "index_label"
   ]
  },
  {
   "cell_type": "code",
   "execution_count": 163,
   "metadata": {},
   "outputs": [
    {
     "data": {
      "text/html": [
       "<div>\n",
       "<style scoped>\n",
       "    .dataframe tbody tr th:only-of-type {\n",
       "        vertical-align: middle;\n",
       "    }\n",
       "\n",
       "    .dataframe tbody tr th {\n",
       "        vertical-align: top;\n",
       "    }\n",
       "\n",
       "    .dataframe thead th {\n",
       "        text-align: right;\n",
       "    }\n",
       "</style>\n",
       "<table border=\"1\" class=\"dataframe\">\n",
       "  <thead>\n",
       "    <tr style=\"text-align: right;\">\n",
       "      <th></th>\n",
       "      <th>City</th>\n",
       "      <th>Lat</th>\n",
       "      <th>Lng</th>\n",
       "      <th>Max Temp</th>\n",
       "      <th>Humidity</th>\n",
       "      <th>Cloudiness</th>\n",
       "      <th>Wind Speed</th>\n",
       "      <th>Country</th>\n",
       "      <th>Date</th>\n",
       "    </tr>\n",
       "  </thead>\n",
       "  <tbody>\n",
       "    <tr>\n",
       "      <th>0</th>\n",
       "      <td>Lázaro Cárdenas</td>\n",
       "      <td>17.9583</td>\n",
       "      <td>-102.2000</td>\n",
       "      <td>24.61</td>\n",
       "      <td>75</td>\n",
       "      <td>82</td>\n",
       "      <td>1.70</td>\n",
       "      <td>MX</td>\n",
       "      <td>1619496156</td>\n",
       "    </tr>\n",
       "    <tr>\n",
       "      <th>1</th>\n",
       "      <td>Avila</td>\n",
       "      <td>40.5833</td>\n",
       "      <td>-5.0000</td>\n",
       "      <td>8.33</td>\n",
       "      <td>89</td>\n",
       "      <td>56</td>\n",
       "      <td>0.89</td>\n",
       "      <td>ES</td>\n",
       "      <td>1619496171</td>\n",
       "    </tr>\n",
       "    <tr>\n",
       "      <th>2</th>\n",
       "      <td>Bredasdorp</td>\n",
       "      <td>-34.5322</td>\n",
       "      <td>20.0403</td>\n",
       "      <td>14.00</td>\n",
       "      <td>88</td>\n",
       "      <td>97</td>\n",
       "      <td>1.54</td>\n",
       "      <td>ZA</td>\n",
       "      <td>1619496039</td>\n",
       "    </tr>\n",
       "    <tr>\n",
       "      <th>3</th>\n",
       "      <td>Ushuaia</td>\n",
       "      <td>-54.8000</td>\n",
       "      <td>-68.3000</td>\n",
       "      <td>6.00</td>\n",
       "      <td>87</td>\n",
       "      <td>40</td>\n",
       "      <td>1.03</td>\n",
       "      <td>AR</td>\n",
       "      <td>1619495977</td>\n",
       "    </tr>\n",
       "    <tr>\n",
       "      <th>4</th>\n",
       "      <td>Jaisinghnagar</td>\n",
       "      <td>23.7000</td>\n",
       "      <td>81.3833</td>\n",
       "      <td>35.71</td>\n",
       "      <td>6</td>\n",
       "      <td>76</td>\n",
       "      <td>1.75</td>\n",
       "      <td>IN</td>\n",
       "      <td>1619496172</td>\n",
       "    </tr>\n",
       "  </tbody>\n",
       "</table>\n",
       "</div>"
      ],
      "text/plain": [
       "              City      Lat       Lng  Max Temp  Humidity  Cloudiness  \\\n",
       "0  Lázaro Cárdenas  17.9583 -102.2000     24.61        75          82   \n",
       "1            Avila  40.5833   -5.0000      8.33        89          56   \n",
       "2       Bredasdorp -34.5322   20.0403     14.00        88          97   \n",
       "3          Ushuaia -54.8000  -68.3000      6.00        87          40   \n",
       "4    Jaisinghnagar  23.7000   81.3833     35.71         6          76   \n",
       "\n",
       "   Wind Speed Country        Date  \n",
       "0        1.70      MX  1619496156  \n",
       "1        0.89      ES  1619496171  \n",
       "2        1.54      ZA  1619496039  \n",
       "3        1.03      AR  1619495977  \n",
       "4        1.75      IN  1619496172  "
      ]
     },
     "execution_count": 163,
     "metadata": {},
     "output_type": "execute_result"
    }
   ],
   "source": [
    "# Make a new DataFrame equal to the city data to drop all humidity outliers by index.\n",
    "# Passing \"inplace=False\" will make a copy of the city_data DataFrame, which we call \"clean_city_data\".\n",
    "clean_city_data = cities_data.drop(index_label)\n",
    "clean_city_data.head()"
   ]
  },
  {
   "cell_type": "markdown",
   "metadata": {},
   "source": [
    "## Plotting the Data\n",
    "* Use proper labeling of the plots using plot titles (including date of analysis) and axes labels.\n",
    "* Save the plotted figures as .pngs."
   ]
  },
  {
   "cell_type": "markdown",
   "metadata": {},
   "source": [
    "## Latitude vs. Temperature Plot"
   ]
  },
  {
   "cell_type": "code",
   "execution_count": 171,
   "metadata": {},
   "outputs": [
    {
     "name": "stdout",
     "output_type": "stream",
     "text": [
      "26/04/21\n"
     ]
    }
   ],
   "source": [
    "date_today = date.today()\n",
    "date_today = date_today.strftime(\"%d/%m/%y\")\n",
    "print(date_today)"
   ]
  },
  {
   "cell_type": "code",
   "execution_count": 172,
   "metadata": {
    "scrolled": true
   },
   "outputs": [
    {
     "data": {
      "image/png": "[encoded data removed]",
      "text/plain": [
       "<Figure size 432x288 with 1 Axes>"
      ]
     },
     "metadata": {
      "needs_background": "light"
     },
     "output_type": "display_data"
    }
   ],
   "source": [
    "plt.scatter(clean_city_data[\"Lat\"], clean_city_data[\"Max Temp\"], marker=\"o\", facecolors=\"teal\", edgecolors=\"black\")\n",
    "plt.grid(b=True, which='major')\n",
    "plt.xlabel(\"Latitude\")\n",
    "plt.ylabel(\"Max Temperature(F)\")\n",
    "plt.title(f\"City Latitude vs. Max Temperature ({date_today})\")\n",
    "plt.show()"
   ]
  },
  {
   "cell_type": "markdown",
   "metadata": {},
   "source": [
    "## Latitude vs. Humidity Plot"
   ]
  },
  {
   "cell_type": "code",
   "execution_count": 173,
   "metadata": {},
   "outputs": [
    {
     "data": {
      "image/png": "[encoded data removed]",
      "text/plain": [
       "<Figure size 432x288 with 1 Axes>"
      ]
     },
     "metadata": {
      "needs_background": "light"
     },
     "output_type": "display_data"
    }
   ],
   "source": [
    "plt.scatter(clean_city_data[\"Lat\"], clean_city_data[\"Humidity\"], marker=\"o\", facecolors=\"teal\", edgecolors=\"black\")\n",
    "plt.grid(b=True, which='major')\n",
    "plt.xlabel(\"Latitude\")\n",
    "plt.ylabel(\"Humidity (%)\")\n",
    "plt.title(f\"City Latitude vs. Humidity ({date_today})\")\n",
    "plt.show()"
   ]
  },
  {
   "cell_type": "markdown",
   "metadata": {},
   "source": [
    "## Latitude vs. Cloudiness Plot"
   ]
  },
  {
   "cell_type": "code",
   "execution_count": 174,
   "metadata": {},
   "outputs": [
    {
     "data": {
      "image/png": "[encoded data removed]",
      "text/plain": [
       "<Figure size 432x288 with 1 Axes>"
      ]
     },
     "metadata": {
      "needs_background": "light"
     },
     "output_type": "display_data"
    }
   ],
   "source": [
    "plt.scatter(clean_city_data[\"Lat\"], clean_city_data[\"Cloudiness\"], marker=\"o\", facecolors=\"teal\", edgecolors=\"black\")\n",
    "plt.grid(b=True, which='major')\n",
    "plt.xlabel(\"Latitude\")\n",
    "plt.ylabel(\"Cloudiness (%)\")\n",
    "plt.title(f\"City Latitude vs. Cloudiness ({date_today})\")\n",
    "plt.show()"
   ]
  },
  {
   "cell_type": "markdown",
   "metadata": {},
   "source": [
    "## Latitude vs. Wind Speed Plot"
   ]
  },
  {
   "cell_type": "code",
   "execution_count": 176,
   "metadata": {},
   "outputs": [
    {
     "data": {
      "image/png": "[encoded data removed]",
      "text/plain": [
       "<Figure size 432x288 with 1 Axes>"
      ]
     },
     "metadata": {
      "needs_background": "light"
     },
     "output_type": "display_data"
    }
   ],
   "source": [
    "plt.scatter(clean_city_data[\"Lat\"], clean_city_data[\"Wind Speed\"], marker=\"o\", facecolors=\"teal\", edgecolors=\"black\")\n",
    "plt.grid(b=True, which='major')\n",
    "plt.xlabel(\"Latitude\")\n",
    "plt.ylabel(\"Wind Speed (mph)\")\n",
    "plt.title(f\"City Latitude vs. Wind Speed ({date_today})\")\n",
    "plt.show()"
   ]
  },
  {
   "cell_type": "markdown",
   "metadata": {},
   "source": [
    "## Linear Regression"
   ]
  },
  {
   "cell_type": "code",
   "execution_count": 177,
   "metadata": {},
   "outputs": [
    {
     "data": {
      "text/html": [
       "<div>\n",
       "<style scoped>\n",
       "    .dataframe tbody tr th:only-of-type {\n",
       "        vertical-align: middle;\n",
       "    }\n",
       "\n",
       "    .dataframe tbody tr th {\n",
       "        vertical-align: top;\n",
       "    }\n",
       "\n",
       "    .dataframe thead th {\n",
       "        text-align: right;\n",
       "    }\n",
       "</style>\n",
       "<table border=\"1\" class=\"dataframe\">\n",
       "  <thead>\n",
       "    <tr style=\"text-align: right;\">\n",
       "      <th></th>\n",
       "      <th>City</th>\n",
       "      <th>Lat</th>\n",
       "      <th>Lng</th>\n",
       "      <th>Max Temp</th>\n",
       "      <th>Humidity</th>\n",
       "      <th>Cloudiness</th>\n",
       "      <th>Wind Speed</th>\n",
       "      <th>Country</th>\n",
       "      <th>Date</th>\n",
       "    </tr>\n",
       "  </thead>\n",
       "  <tbody>\n",
       "    <tr>\n",
       "      <th>0</th>\n",
       "      <td>Lázaro Cárdenas</td>\n",
       "      <td>17.9583</td>\n",
       "      <td>-102.2000</td>\n",
       "      <td>24.61</td>\n",
       "      <td>75</td>\n",
       "      <td>82</td>\n",
       "      <td>1.70</td>\n",
       "      <td>MX</td>\n",
       "      <td>1619496156</td>\n",
       "    </tr>\n",
       "    <tr>\n",
       "      <th>1</th>\n",
       "      <td>Avila</td>\n",
       "      <td>40.5833</td>\n",
       "      <td>-5.0000</td>\n",
       "      <td>8.33</td>\n",
       "      <td>89</td>\n",
       "      <td>56</td>\n",
       "      <td>0.89</td>\n",
       "      <td>ES</td>\n",
       "      <td>1619496171</td>\n",
       "    </tr>\n",
       "    <tr>\n",
       "      <th>4</th>\n",
       "      <td>Jaisinghnagar</td>\n",
       "      <td>23.7000</td>\n",
       "      <td>81.3833</td>\n",
       "      <td>35.71</td>\n",
       "      <td>6</td>\n",
       "      <td>76</td>\n",
       "      <td>1.75</td>\n",
       "      <td>IN</td>\n",
       "      <td>1619496172</td>\n",
       "    </tr>\n",
       "    <tr>\n",
       "      <th>5</th>\n",
       "      <td>Derzhavīnsk</td>\n",
       "      <td>51.1000</td>\n",
       "      <td>66.3167</td>\n",
       "      <td>16.87</td>\n",
       "      <td>41</td>\n",
       "      <td>100</td>\n",
       "      <td>5.53</td>\n",
       "      <td>KZ</td>\n",
       "      <td>1619496172</td>\n",
       "    </tr>\n",
       "    <tr>\n",
       "      <th>7</th>\n",
       "      <td>Los Llanos de Aridane</td>\n",
       "      <td>28.6585</td>\n",
       "      <td>-17.9182</td>\n",
       "      <td>19.00</td>\n",
       "      <td>72</td>\n",
       "      <td>75</td>\n",
       "      <td>0.51</td>\n",
       "      <td>ES</td>\n",
       "      <td>1619496173</td>\n",
       "    </tr>\n",
       "  </tbody>\n",
       "</table>\n",
       "</div>"
      ],
      "text/plain": [
       "                    City      Lat       Lng  Max Temp  Humidity  Cloudiness  \\\n",
       "0        Lázaro Cárdenas  17.9583 -102.2000     24.61        75          82   \n",
       "1                  Avila  40.5833   -5.0000      8.33        89          56   \n",
       "4          Jaisinghnagar  23.7000   81.3833     35.71         6          76   \n",
       "5            Derzhavīnsk  51.1000   66.3167     16.87        41         100   \n",
       "7  Los Llanos de Aridane  28.6585  -17.9182     19.00        72          75   \n",
       "\n",
       "   Wind Speed Country        Date  \n",
       "0        1.70      MX  1619496156  \n",
       "1        0.89      ES  1619496171  \n",
       "4        1.75      IN  1619496172  \n",
       "5        5.53      KZ  1619496172  \n",
       "7        0.51      ES  1619496173  "
      ]
     },
     "execution_count": 177,
     "metadata": {},
     "output_type": "execute_result"
    }
   ],
   "source": [
    "northern_hemisphere = clean_city_data[clean_city_data[\"Lat\"]>0]\n",
    "northern_hemisphere.head()"
   ]
  },
  {
   "cell_type": "code",
   "execution_count": 178,
   "metadata": {},
   "outputs": [
    {
     "data": {
      "text/plain": [
       "(384, 9)"
      ]
     },
     "execution_count": 178,
     "metadata": {},
     "output_type": "execute_result"
    }
   ],
   "source": [
    "northern_hemisphere.shape"
   ]
  },
  {
   "cell_type": "code",
   "execution_count": 179,
   "metadata": {},
   "outputs": [
    {
     "data": {
      "text/html": [
       "<div>\n",
       "<style scoped>\n",
       "    .dataframe tbody tr th:only-of-type {\n",
       "        vertical-align: middle;\n",
       "    }\n",
       "\n",
       "    .dataframe tbody tr th {\n",
       "        vertical-align: top;\n",
       "    }\n",
       "\n",
       "    .dataframe thead th {\n",
       "        text-align: right;\n",
       "    }\n",
       "</style>\n",
       "<table border=\"1\" class=\"dataframe\">\n",
       "  <thead>\n",
       "    <tr style=\"text-align: right;\">\n",
       "      <th></th>\n",
       "      <th>City</th>\n",
       "      <th>Lat</th>\n",
       "      <th>Lng</th>\n",
       "      <th>Max Temp</th>\n",
       "      <th>Humidity</th>\n",
       "      <th>Cloudiness</th>\n",
       "      <th>Wind Speed</th>\n",
       "      <th>Country</th>\n",
       "      <th>Date</th>\n",
       "    </tr>\n",
       "  </thead>\n",
       "  <tbody>\n",
       "    <tr>\n",
       "      <th>2</th>\n",
       "      <td>Bredasdorp</td>\n",
       "      <td>-34.5322</td>\n",
       "      <td>20.0403</td>\n",
       "      <td>14.00</td>\n",
       "      <td>88</td>\n",
       "      <td>97</td>\n",
       "      <td>1.54</td>\n",
       "      <td>ZA</td>\n",
       "      <td>1619496039</td>\n",
       "    </tr>\n",
       "    <tr>\n",
       "      <th>3</th>\n",
       "      <td>Ushuaia</td>\n",
       "      <td>-54.8000</td>\n",
       "      <td>-68.3000</td>\n",
       "      <td>6.00</td>\n",
       "      <td>87</td>\n",
       "      <td>40</td>\n",
       "      <td>1.03</td>\n",
       "      <td>AR</td>\n",
       "      <td>1619495977</td>\n",
       "    </tr>\n",
       "    <tr>\n",
       "      <th>6</th>\n",
       "      <td>Arraial do Cabo</td>\n",
       "      <td>-22.9661</td>\n",
       "      <td>-42.0278</td>\n",
       "      <td>23.59</td>\n",
       "      <td>78</td>\n",
       "      <td>98</td>\n",
       "      <td>0.90</td>\n",
       "      <td>BR</td>\n",
       "      <td>1619496173</td>\n",
       "    </tr>\n",
       "    <tr>\n",
       "      <th>10</th>\n",
       "      <td>Kavieng</td>\n",
       "      <td>-2.5744</td>\n",
       "      <td>150.7967</td>\n",
       "      <td>29.18</td>\n",
       "      <td>66</td>\n",
       "      <td>48</td>\n",
       "      <td>1.90</td>\n",
       "      <td>PG</td>\n",
       "      <td>1619496174</td>\n",
       "    </tr>\n",
       "    <tr>\n",
       "      <th>13</th>\n",
       "      <td>Bambous Virieux</td>\n",
       "      <td>-20.3428</td>\n",
       "      <td>57.7575</td>\n",
       "      <td>24.00</td>\n",
       "      <td>94</td>\n",
       "      <td>75</td>\n",
       "      <td>5.66</td>\n",
       "      <td>MU</td>\n",
       "      <td>1619496175</td>\n",
       "    </tr>\n",
       "  </tbody>\n",
       "</table>\n",
       "</div>"
      ],
      "text/plain": [
       "               City      Lat       Lng  Max Temp  Humidity  Cloudiness  \\\n",
       "2        Bredasdorp -34.5322   20.0403     14.00        88          97   \n",
       "3           Ushuaia -54.8000  -68.3000      6.00        87          40   \n",
       "6   Arraial do Cabo -22.9661  -42.0278     23.59        78          98   \n",
       "10          Kavieng  -2.5744  150.7967     29.18        66          48   \n",
       "13  Bambous Virieux -20.3428   57.7575     24.00        94          75   \n",
       "\n",
       "    Wind Speed Country        Date  \n",
       "2         1.54      ZA  1619496039  \n",
       "3         1.03      AR  1619495977  \n",
       "6         0.90      BR  1619496173  \n",
       "10        1.90      PG  1619496174  \n",
       "13        5.66      MU  1619496175  "
      ]
     },
     "execution_count": 179,
     "metadata": {},
     "output_type": "execute_result"
    }
   ],
   "source": [
    "southern_hemisphere = clean_city_data[clean_city_data[\"Lat\"]<0]\n",
    "southern_hemisphere.head()"
   ]
  },
  {
   "cell_type": "code",
   "execution_count": 180,
   "metadata": {},
   "outputs": [
    {
     "data": {
      "text/plain": [
       "(179, 9)"
      ]
     },
     "execution_count": 180,
     "metadata": {},
     "output_type": "execute_result"
    }
   ],
   "source": [
    "southern_hemisphere.shape"
   ]
  },
  {
   "cell_type": "markdown",
   "metadata": {},
   "source": [
    "####  Northern Hemisphere - Max Temp vs. Latitude Linear Regression"
   ]
  },
  {
   "cell_type": "code",
   "execution_count": 181,
   "metadata": {},
   "outputs": [
    {
     "name": "stdout",
     "output_type": "stream",
     "text": [
      "r-value is: -0.890567015405845\n"
     ]
    },
    {
     "data": {
      "image/png": "[encoded data removed]",
      "text/plain": [
       "<Figure size 432x288 with 1 Axes>"
      ]
     },
     "metadata": {
      "needs_background": "light"
     },
     "output_type": "display_data"
    }
   ],
   "source": [
    "x_values = northern_hemisphere[\"Max Temp\"]\n",
    "y_values = northern_hemisphere[\"Lat\"]\n",
    "(slope, intercept, rvalue, pvalue, stderr) = linregress(x_values, y_values)\n",
    "regress_values = x_values * slope + intercept\n",
    "line_eq = \"y = \" + str(round(slope,2)) + \"x + \" + str(round(intercept,2))\n",
    "plt.scatter(x_values, y_values)\n",
    "plt.plot(x_values, regress_values, \"r-\")\n",
    "plt.annotate(line_eq, (0, 20), fontsize=15, color=\"red\")\n",
    "plt.xlabel(\"Latitude\")\n",
    "plt.ylabel(\"Max Temp\")\n",
    "print(f\"r-value is: {rvalue}\")\n",
    "plt.show()"
   ]
  },
  {
   "cell_type": "markdown",
   "metadata": {},
   "source": [
    "####  Southern Hemisphere - Max Temp vs. Latitude Linear Regression"
   ]
  },
  {
   "cell_type": "code",
   "execution_count": 182,
   "metadata": {},
   "outputs": [
    {
     "name": "stdout",
     "output_type": "stream",
     "text": [
      "r-value is: 0.6466548949337937\n"
     ]
    },
    {
     "data": {
      "image/png": "[encoded data removed]",
      "text/plain": [
       "<Figure size 432x288 with 1 Axes>"
      ]
     },
     "metadata": {
      "needs_background": "light"
     },
     "output_type": "display_data"
    }
   ],
   "source": [
    "x_values = southern_hemisphere[\"Max Temp\"]\n",
    "y_values = southern_hemisphere[\"Lat\"]\n",
    "(slope, intercept, rvalue, pvalue, stderr) = linregress(x_values, y_values)\n",
    "regress_values = x_values * slope + intercept\n",
    "line_eq = \"y = \" + str(round(slope,2)) + \"x + \" + str(round(intercept,2))\n",
    "plt.scatter(x_values, y_values)\n",
    "plt.plot(x_values, regress_values, \"r-\")\n",
    "plt.annotate(line_eq, (10, -10), fontsize=15, color=\"red\")\n",
    "plt.xlabel(\"Latitude\")\n",
    "plt.ylabel(\"Max Temp\")\n",
    "print(f\"r-value is: {rvalue}\")\n",
    "plt.show()"
   ]
  },
  {
   "cell_type": "markdown",
   "metadata": {},
   "source": [
    "####  Northern Hemisphere - Humidity (%) vs. Latitude Linear Regression"
   ]
  },
  {
   "cell_type": "code",
   "execution_count": 183,
   "metadata": {},
   "outputs": [
    {
     "name": "stdout",
     "output_type": "stream",
     "text": [
      "r-value is: 0.11380971500501004\n"
     ]
    },
    {
     "data": {
      "image/png": "[encoded data removed]",
      "text/plain": [
       "<Figure size 432x288 with 1 Axes>"
      ]
     },
     "metadata": {
      "needs_background": "light"
     },
     "output_type": "display_data"
    }
   ],
   "source": [
    "x_values = northern_hemisphere[\"Humidity\"]\n",
    "y_values = northern_hemisphere[\"Lat\"]\n",
    "(slope, intercept, rvalue, pvalue, stderr) = linregress(x_values, y_values)\n",
    "regress_values = x_values * slope + intercept\n",
    "line_eq = \"y = \" + str(round(slope,2)) + \"x + \" + str(round(intercept,2))\n",
    "plt.scatter(x_values, y_values)\n",
    "plt.plot(x_values, regress_values, \"r-\")\n",
    "plt.annotate(line_eq, (15, 70), fontsize=15, color=\"red\")\n",
    "plt.xlabel(\"Latitude\")\n",
    "plt.ylabel(\"Humidity (%)\")\n",
    "print(f\"r-value is: {rvalue}\")\n",
    "plt.show()"
   ]
  },
  {
   "cell_type": "markdown",
   "metadata": {},
   "source": [
    "####  Southern Hemisphere - Humidity (%) vs. Latitude Linear Regression"
   ]
  },
  {
   "cell_type": "code",
   "execution_count": 184,
   "metadata": {},
   "outputs": [
    {
     "name": "stdout",
     "output_type": "stream",
     "text": [
      "r-value is: 0.19221649937639598\n"
     ]
    },
    {
     "data": {
      "image/png": "[encoded data removed]",
      "text/plain": [
       "<Figure size 432x288 with 1 Axes>"
      ]
     },
     "metadata": {
      "needs_background": "light"
     },
     "output_type": "display_data"
    }
   ],
   "source": [
    "x_values = southern_hemisphere[\"Humidity\"]\n",
    "y_values = southern_hemisphere[\"Lat\"]\n",
    "(slope, intercept, rvalue, pvalue, stderr) = linregress(x_values, y_values)\n",
    "regress_values = x_values * slope + intercept\n",
    "line_eq = \"y = \" + str(round(slope,2)) + \"x + \" + str(round(intercept,2))\n",
    "plt.scatter(x_values, y_values)\n",
    "plt.plot(x_values, regress_values, \"r-\")\n",
    "plt.annotate(line_eq, (30, -10), fontsize=15, color=\"red\")\n",
    "plt.xlabel(\"Latitude\")\n",
    "plt.ylabel(\"Humidity (%)\")\n",
    "print(f\"r-value is: {rvalue}\")\n",
    "plt.show()"
   ]
  },
  {
   "cell_type": "markdown",
   "metadata": {},
   "source": [
    "####  Northern Hemisphere - Cloudiness (%) vs. Latitude Linear Regression"
   ]
  },
  {
   "cell_type": "code",
   "execution_count": 185,
   "metadata": {},
   "outputs": [
    {
     "name": "stdout",
     "output_type": "stream",
     "text": [
      "r-value is: 0.055254948896647234\n"
     ]
    },
    {
     "data": {
      "image/png": "[encoded data removed]",
      "text/plain": [
       "<Figure size 432x288 with 1 Axes>"
      ]
     },
     "metadata": {
      "needs_background": "light"
     },
     "output_type": "display_data"
    }
   ],
   "source": [
    "x_values = northern_hemisphere[\"Cloudiness\"]\n",
    "y_values = northern_hemisphere[\"Lat\"]\n",
    "(slope, intercept, rvalue, pvalue, stderr) = linregress(x_values, y_values)\n",
    "regress_values = x_values * slope + intercept\n",
    "line_eq = \"y = \" + str(round(slope,2)) + \"x + \" + str(round(intercept,2))\n",
    "plt.scatter(x_values, y_values)\n",
    "plt.plot(x_values, regress_values, \"r-\")\n",
    "plt.annotate(line_eq, (15, 70), fontsize=15, color=\"red\")\n",
    "plt.xlabel(\"Latitude\")\n",
    "plt.ylabel(\"Cloudiness (%)\")\n",
    "print(f\"r-value is: {rvalue}\")\n",
    "plt.show()"
   ]
  },
  {
   "cell_type": "markdown",
   "metadata": {},
   "source": [
    "####  Southern Hemisphere - Cloudiness (%) vs. Latitude Linear Regression"
   ]
  },
  {
   "cell_type": "code",
   "execution_count": 186,
   "metadata": {},
   "outputs": [
    {
     "name": "stdout",
     "output_type": "stream",
     "text": [
      "r-value is: 0.08344020938414681\n"
     ]
    },
    {
     "data": {
      "image/png": "[encoded data removed]",
      "text/plain": [
       "<Figure size 432x288 with 1 Axes>"
      ]
     },
     "metadata": {
      "needs_background": "light"
     },
     "output_type": "display_data"
    }
   ],
   "source": [
    "x_values = southern_hemisphere[\"Cloudiness\"]\n",
    "y_values = southern_hemisphere[\"Lat\"]\n",
    "(slope, intercept, rvalue, pvalue, stderr) = linregress(x_values, y_values)\n",
    "regress_values = x_values * slope + intercept\n",
    "line_eq = \"y = \" + str(round(slope,2)) + \"x + \" + str(round(intercept,2))\n",
    "plt.scatter(x_values, y_values)\n",
    "plt.plot(x_values, regress_values, \"r-\")\n",
    "plt.annotate(line_eq, (30, -10), fontsize=15, color=\"red\")\n",
    "plt.xlabel(\"Latitude\")\n",
    "plt.ylabel(\"Cloudiness (%)\")\n",
    "print(f\"r-value is: {rvalue}\")\n",
    "plt.show()"
   ]
  },
  {
   "cell_type": "markdown",
   "metadata": {},
   "source": [
    "####  Northern Hemisphere - Wind Speed (mph) vs. Latitude Linear Regression"
   ]
  },
  {
   "cell_type": "code",
   "execution_count": 187,
   "metadata": {},
   "outputs": [
    {
     "name": "stdout",
     "output_type": "stream",
     "text": [
      "r-value is: 0.18296669824040876\n"
     ]
    },
    {
     "data": {
      "image/png": "[encoded data removed]",
      "text/plain": [
       "<Figure size 432x288 with 1 Axes>"
      ]
     },
     "metadata": {
      "needs_background": "light"
     },
     "output_type": "display_data"
    }
   ],
   "source": [
    "x_values = northern_hemisphere[\"Wind Speed\"]\n",
    "y_values = northern_hemisphere[\"Lat\"]\n",
    "(slope, intercept, rvalue, pvalue, stderr) = linregress(x_values, y_values)\n",
    "regress_values = x_values * slope + intercept\n",
    "line_eq = \"y = \" + str(round(slope,2)) + \"x + \" + str(round(intercept,2))\n",
    "plt.scatter(x_values, y_values)\n",
    "plt.plot(x_values, regress_values, \"r-\")\n",
    "plt.annotate(line_eq, (3, 70), fontsize=15, color=\"red\")\n",
    "plt.xlabel(\"Latitude\")\n",
    "plt.ylabel(\"Wind Speed (mph)\")\n",
    "print(f\"r-value is: {rvalue}\")\n",
    "plt.show()"
   ]
  },
  {
   "cell_type": "markdown",
   "metadata": {},
   "source": [
    "####  Southern Hemisphere - Wind Speed (mph) vs. Latitude Linear Regression"
   ]
  },
  {
   "cell_type": "code",
   "execution_count": 188,
   "metadata": {},
   "outputs": [
    {
     "name": "stdout",
     "output_type": "stream",
     "text": [
      "r-value is: -0.12882020604003425\n"
     ]
    },
    {
     "data": {
      "image/png": "[encoded data removed]",
      "text/plain": [
       "<Figure size 432x288 with 1 Axes>"
      ]
     },
     "metadata": {
      "needs_background": "light"
     },
     "output_type": "display_data"
    }
   ],
   "source": [
    "x_values = southern_hemisphere[\"Wind Speed\"]\n",
    "y_values = southern_hemisphere[\"Lat\"]\n",
    "(slope, intercept, rvalue, pvalue, stderr) = linregress(x_values, y_values)\n",
    "regress_values = x_values * slope + intercept\n",
    "line_eq = \"y = \" + str(round(slope,2)) + \"x + \" + str(round(intercept,2))\n",
    "plt.scatter(x_values, y_values)\n",
    "plt.plot(x_values, regress_values, \"r-\")\n",
    "plt.annotate(line_eq, (4, -10), fontsize=15, color=\"red\")\n",
    "plt.xlabel(\"Latitude\")\n",
    "plt.ylabel(\"Wind Speed (mph)\")\n",
    "print(f\"r-value is: {rvalue}\")\n",
    "plt.show()"
   ]
  },
  {
   "cell_type": "code",
   "execution_count": null,
   "metadata": {},
   "outputs": [],
   "source": []
  }
 ],
 "metadata": {
  "anaconda-cloud": {},
  "kernel_info": {
   "name": "python3"
  },
  "kernelspec": {
   "display_name": "Python [conda env:root] *",
   "language": "python",
   "name": "conda-root-py"
  },
  "language_info": {
   "codemirror_mode": {
    "name": "ipython",
    "version": 3
   },
   "file_extension": ".py",
   "mimetype": "text/x-python",
   "name": "python",
   "nbconvert_exporter": "python",
   "pygments_lexer": "ipython3",
   "version": "3.8.5"
  },
  "latex_envs": {
   "LaTeX_envs_menu_present": true,
   "autoclose": false,
   "autocomplete": true,
   "bibliofile": "biblio.bib",
   "cite_by": "apalike",
   "current_citInitial": 1,
   "eqLabelWithNumbers": true,
   "eqNumInitial": 1,
   "hotkeys": {
    "equation": "Ctrl-E",
    "itemize": "Ctrl-I"
   },
   "labels_anchors": false,
   "latex_user_defs": false,
   "report_style_numbering": false,
   "user_envs_cfg": false
  },
  "nteract": {
   "version": "0.12.3"
  }
 },
 "nbformat": 4,
 "nbformat_minor": 2
}
